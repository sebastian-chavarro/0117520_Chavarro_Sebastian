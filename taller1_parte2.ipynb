{
 "cells": [
  {
   "cell_type": "code",
   "execution_count": 1,
   "metadata": {},
   "outputs": [
    {
     "name": "stdout",
     "output_type": "stream",
     "text": [
      "Ingrese la lista de numeros que desea examinar: 12345\n",
      "los numeros que aparecen dos vez son:  set()\n"
     ]
    }
   ],
   "source": [
    "\"\"\"\n",
    "15. Leer una lista de números enteros y enumerar cuantos elementos se repiten exactamente dos veces.\n",
    "\"\"\"\n",
    "lista=input(\"Ingrese los numeros que desea examinar: \")\n",
    "repetido= []\n",
    "for x in lista:\n",
    "    if lista.count(x) ==2:\n",
    "        repetido.append(x)\n",
    "print (\"los numeros que aparecen dos vez son: \", set(repetido))"
   ]
  },
  {
   "cell_type": "code",
   "execution_count": 2,
   "metadata": {},
   "outputs": [
    {
     "name": "stdout",
     "output_type": "stream",
     "text": [
      "ingre el numero de elementos de la lista: 3\n",
      "Ingrese un valor entero:1\n",
      "Ingrese un valor entero:2\n",
      "Ingrese un valor entero:3\n",
      "ingrese el numero que desea añadir a la lista: 4\n",
      "si lista es  ['1', '2', '3', '4']\n"
     ]
    }
   ],
   "source": [
    "'''\n",
    "16. Leer una lista de números ya ordenados de forma ascendente y verificar que dicha lista está ordenada. Luego, leer un\n",
    "número e insertarlo en la lista en la posición que le corresponde a dicho número.\n",
    "''' \n",
    "lista=[]\n",
    "x=int(input(\"ingre el numero de elementos de la lista: \"))\n",
    "for x in range(x):\n",
    "    valor=input(\"Ingrese un valor entero:\")\n",
    "    lista.append(valor)\n",
    "if lista==sorted(lista):\n",
    "    x=input(\"ingrese el numero que desea añadir a la lista: \")\n",
    "    lista.append(x)\n",
    "    print(\"su lista es \",sorted(lista))   \n",
    "else:\n",
    "    print(\"la lista ingresada no esta en orden\")"
   ]
  },
  {
   "cell_type": "code",
   "execution_count": 3,
   "metadata": {},
   "outputs": [
    {
     "name": "stdout",
     "output_type": "stream",
     "text": [
      "Cuantos elementos: 3\n",
      "Insertar elemento :1\n",
      "Insertar elemento :2\n",
      "Insertar elemento :3\n",
      "El máximo elemento de la lista es : 2\n"
     ]
    }
   ],
   "source": [
    "'''\n",
    "17. Leer una lista y determinar cuál es el segundo elemento más grande de dicha lista. No utilice ningún tipo de algoritmo\n",
    "de ordenamiento para realizar este ejercicio.\n",
    "'''\n",
    "elemento = []\n",
    "numero = int(input('Cuantos elementos: '))\n",
    "\n",
    "for i in range(numero):\n",
    "     insertar_numero = input('Insertar elemento :')\n",
    "     elemento.append(insertar_numero)\n",
    "x=(max(elemento))\n",
    "elemento.remove(x)\n",
    "print(\"El máximo elemento de la lista es :\", max(elemento))"
   ]
  },
  {
   "cell_type": "code",
   "execution_count": 6,
   "metadata": {},
   "outputs": [
    {
     "name": "stdout",
     "output_type": "stream",
     "text": [
      "Ingrese el numero de filas: 2\n",
      "Ingrese el numero de columnas: 3\n",
      "la matriz que desea ingresar no es cuadrada: \n",
      "Si desea ingresrar otra matriz presione 1, de lo contrario ingrese otro numero: 1\n",
      "Ingrese el numero de filas: 2\n",
      "Ingrese el numero de columnas: 2\n",
      "ingrese numero: 1\n",
      "ingrese numero: 2\n",
      "ingrese numero: 3\n",
      "ingrese numero: 4\n",
      "[1, 2]\n",
      "[3, 4]\n",
      "Matriz rotada: \n",
      "[2 4]\n",
      "[1 3]\n"
     ]
    }
   ],
   "source": [
    "'''\n",
    "20. Hacer un programa que lea una matriz y la rote 90 grados en sentido antihorario.\n",
    "'''\n",
    "import numpy as np\n",
    "matriz = []\n",
    "matriz2= []\n",
    "numero_filas=int(input(\"Ingrese el numero de filas: \"))\n",
    "numero_columnas=int(input(\"Ingrese el numero de columnas: \"))\n",
    "if numero_columnas==numero_filas:\n",
    "    numero_filas==numero_filas-1\n",
    "    numero_columnas=numero_columnas-1\n",
    "    for i in range(numero_filas):\n",
    "        x=int(input(\"ingrese numero: \"))\n",
    "        matriz.append([x])\n",
    "        for j in range(numero_columnas):\n",
    "            x=int(input(\"ingrese numero: \"))\n",
    "            matriz[i].append(x)\n",
    "            \n",
    "else:\n",
    "    print(\"la matriz que desea ingresar no es cuadrada: \")\n",
    "    repetir=int(input(\"Si desea ingresrar otra matriz presione 1, de lo contrario ingrese otro numero: \"))\n",
    "    if repetir==1:\n",
    "        matriz = []\n",
    "        matriz2= []\n",
    "        numero_filas=int(input(\"Ingrese el numero de filas: \"))\n",
    "        numero_columnas=int(input(\"Ingrese el numero de columnas: \"))\n",
    "        if numero_columnas==numero_filas:\n",
    "            numero_filas==numero_filas-1\n",
    "            numero_columnas=numero_columnas-1\n",
    "            for i in range(numero_filas):\n",
    "                x=int(input(\"ingrese numero: \"))\n",
    "                matriz.append([x])\n",
    "                for j in range(numero_columnas):\n",
    "                    x=int(input(\"ingrese numero: \"))\n",
    "                    matriz[i].append(x)\n",
    "                    \n",
    "    else:\n",
    "        print(\"Fin del progrma.\") \n",
    "print(\"Matriz ingresda: \")\n",
    "for a in matriz:\n",
    "    print(a)\n",
    "matriz2=np.rot90(matriz)  \n",
    "print(\"Matriz rotada: \")\n",
    "for a in matriz2:\n",
    "    print(a)"
   ]
  },
  {
   "cell_type": "code",
   "execution_count": null,
   "metadata": {},
   "outputs": [],
   "source": []
  }
 ],
 "metadata": {
  "kernelspec": {
   "display_name": "Python 3",
   "language": "python",
   "name": "python3"
  },
  "language_info": {
   "codemirror_mode": {
    "name": "ipython",
    "version": 3
   },
   "file_extension": ".py",
   "mimetype": "text/x-python",
   "name": "python",
   "nbconvert_exporter": "python",
   "pygments_lexer": "ipython3",
   "version": "3.6.7"
  }
 },
 "nbformat": 4,
 "nbformat_minor": 2
}
